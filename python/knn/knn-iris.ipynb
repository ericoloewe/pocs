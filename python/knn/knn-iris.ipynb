{
 "cells": [
  {
   "cell_type": "markdown",
   "metadata": {},
   "source": [
    "# Importando as bibliotecas iniciais necessárias"
   ]
  },
  {
   "cell_type": "code",
   "execution_count": 1,
   "metadata": {},
   "outputs": [],
   "source": [
    "import pandas as pd\n",
    "import numpy as np"
   ]
  },
  {
   "cell_type": "markdown",
   "metadata": {},
   "source": [
    "# Importando a base de dados"
   ]
  },
  {
   "cell_type": "code",
   "execution_count": 10,
   "metadata": {},
   "outputs": [],
   "source": [
    "df = pd.read_csv('iris.csv')\n",
    "# print(df)"
   ]
  },
  {
   "cell_type": "markdown",
   "metadata": {},
   "source": [
    "# Pré-processamento dos dados"
   ]
  },
  {
   "cell_type": "code",
   "execution_count": 17,
   "metadata": {},
   "outputs": [
    {
     "name": "stdout",
     "output_type": "stream",
     "text": [
      "   Sepal.Width  Petal.Length  Petal.Width Species\n",
      "0          3.5           1.4          0.2  setosa\n",
      "1          3.0           1.4          0.2  setosa\n",
      "2          3.2           1.3          0.2  setosa\n",
      "3          3.1           1.5          0.2  setosa\n",
      "4          3.6           1.4          0.2  setosa\n",
      "5          3.9           1.7          0.4  setosa\n"
     ]
    }
   ],
   "source": [
    "# Eliminado a coluna Sepal.Length\n",
    "#df = df.drop(['Sepal.Length'], axis=1)\n",
    "#print(df[0:6])"
   ]
  },
  {
   "cell_type": "code",
   "execution_count": 11,
   "metadata": {},
   "outputs": [],
   "source": [
    "# Excluindo as linhas que contenham valores NA\n",
    "df.dropna(inplace=True)"
   ]
  },
  {
   "cell_type": "markdown",
   "metadata": {},
   "source": [
    "# Organizando os conjuntos de treinamento e teste"
   ]
  },
  {
   "cell_type": "code",
   "execution_count": 4,
   "metadata": {
    "scrolled": true
   },
   "outputs": [
    {
     "data": {
      "text/plain": [
       "array([[5.1, 3.5, 1.4],\n",
       "       [4.9, 3. , 1.4],\n",
       "       [4.7, 3.2, 1.3],\n",
       "       [4.6, 3.1, 1.5],\n",
       "       [5. , 3.6, 1.4]])"
      ]
     },
     "execution_count": 4,
     "metadata": {},
     "output_type": "execute_result"
    }
   ],
   "source": [
    "# Como funciona o iloc\n",
    "np.array(df.iloc[0:5, 0:4])"
   ]
  },
  {
   "cell_type": "code",
   "execution_count": 12,
   "metadata": {},
   "outputs": [
    {
     "name": "stdout",
     "output_type": "stream",
     "text": [
      "[[5.1 3.5 1.4 0.2]\n",
      " [4.9 3.  1.4 0.2]\n",
      " [4.7 3.2 1.3 0.2]\n",
      " [4.6 3.1 1.5 0.2]\n",
      " [5.  3.6 1.4 0.2]\n",
      " [5.4 3.9 1.7 0.4]\n",
      " [4.6 3.4 1.4 0.3]\n",
      " [5.  3.4 1.5 0.2]\n",
      " [4.4 2.9 1.4 0.2]\n",
      " [4.9 3.1 1.5 0.1]\n",
      " [5.4 3.7 1.5 0.2]\n",
      " [4.8 3.4 1.6 0.2]\n",
      " [4.8 3.  1.4 0.1]\n",
      " [4.3 3.  1.1 0.1]\n",
      " [5.8 4.  1.2 0.2]\n",
      " [5.7 4.4 1.5 0.4]\n",
      " [5.4 3.9 1.3 0.4]\n",
      " [5.1 3.5 1.4 0.3]\n",
      " [5.7 3.8 1.7 0.3]\n",
      " [5.1 3.8 1.5 0.3]\n",
      " [5.4 3.4 1.7 0.2]\n",
      " [5.1 3.7 1.5 0.4]\n",
      " [4.6 3.6 1.  0.2]\n",
      " [5.1 3.3 1.7 0.5]\n",
      " [4.8 3.4 1.9 0.2]\n",
      " [5.  3.  1.6 0.2]\n",
      " [5.  3.4 1.6 0.4]\n",
      " [5.2 3.5 1.5 0.2]\n",
      " [5.2 3.4 1.4 0.2]\n",
      " [4.7 3.2 1.6 0.2]\n",
      " [4.8 3.1 1.6 0.2]\n",
      " [5.4 3.4 1.5 0.4]\n",
      " [5.2 4.1 1.5 0.1]\n",
      " [5.5 4.2 1.4 0.2]\n",
      " [4.9 3.1 1.5 0.2]\n",
      " [5.  3.2 1.2 0.2]\n",
      " [5.5 3.5 1.3 0.2]\n",
      " [4.9 3.6 1.4 0.1]\n",
      " [4.4 3.  1.3 0.2]\n",
      " [5.1 3.4 1.5 0.2]\n",
      " [5.  3.5 1.3 0.3]\n",
      " [4.5 2.3 1.3 0.3]\n",
      " [4.4 3.2 1.3 0.2]\n",
      " [5.  3.5 1.6 0.6]\n",
      " [5.1 3.8 1.9 0.4]\n",
      " [4.8 3.  1.4 0.3]\n",
      " [5.1 3.8 1.6 0.2]\n",
      " [4.6 3.2 1.4 0.2]\n",
      " [5.3 3.7 1.5 0.2]\n",
      " [5.  3.3 1.4 0.2]\n",
      " [7.  3.2 4.7 1.4]\n",
      " [6.4 3.2 4.5 1.5]\n",
      " [6.9 3.1 4.9 1.5]\n",
      " [5.5 2.3 4.  1.3]\n",
      " [6.5 2.8 4.6 1.5]\n",
      " [5.7 2.8 4.5 1.3]\n",
      " [6.3 3.3 4.7 1.6]\n",
      " [4.9 2.4 3.3 1. ]\n",
      " [6.6 2.9 4.6 1.3]\n",
      " [5.2 2.7 3.9 1.4]\n",
      " [5.  2.  3.5 1. ]\n",
      " [5.9 3.  4.2 1.5]\n",
      " [6.  2.2 4.  1. ]\n",
      " [6.1 2.9 4.7 1.4]\n",
      " [5.6 2.9 3.6 1.3]\n",
      " [6.7 3.1 4.4 1.4]\n",
      " [5.6 3.  4.5 1.5]\n",
      " [5.8 2.7 4.1 1. ]\n",
      " [6.2 2.2 4.5 1.5]\n",
      " [5.6 2.5 3.9 1.1]\n",
      " [5.9 3.2 4.8 1.8]\n",
      " [6.1 2.8 4.  1.3]\n",
      " [6.3 2.5 4.9 1.5]\n",
      " [6.1 2.8 4.7 1.2]\n",
      " [6.4 2.9 4.3 1.3]\n",
      " [6.6 3.  4.4 1.4]\n",
      " [6.8 2.8 4.8 1.4]\n",
      " [6.7 3.  5.  1.7]\n",
      " [6.  2.9 4.5 1.5]\n",
      " [5.7 2.6 3.5 1. ]\n",
      " [5.5 2.4 3.8 1.1]\n",
      " [5.5 2.4 3.7 1. ]\n",
      " [5.8 2.7 3.9 1.2]\n",
      " [6.  2.7 5.1 1.6]\n",
      " [5.4 3.  4.5 1.5]\n",
      " [6.  3.4 4.5 1.6]\n",
      " [6.7 3.1 4.7 1.5]\n",
      " [6.3 2.3 4.4 1.3]\n",
      " [5.6 3.  4.1 1.3]\n",
      " [5.5 2.5 4.  1.3]\n",
      " [5.5 2.6 4.4 1.2]\n",
      " [6.1 3.  4.6 1.4]\n",
      " [5.8 2.6 4.  1.2]\n",
      " [5.  2.3 3.3 1. ]\n",
      " [5.6 2.7 4.2 1.3]\n",
      " [5.7 3.  4.2 1.2]\n",
      " [5.7 2.9 4.2 1.3]\n",
      " [6.2 2.9 4.3 1.3]\n",
      " [5.1 2.5 3.  1.1]\n",
      " [5.7 2.8 4.1 1.3]\n",
      " [6.3 3.3 6.  2.5]\n",
      " [5.8 2.7 5.1 1.9]\n",
      " [7.1 3.  5.9 2.1]\n",
      " [6.3 2.9 5.6 1.8]\n",
      " [6.5 3.  5.8 2.2]\n",
      " [7.6 3.  6.6 2.1]\n",
      " [4.9 2.5 4.5 1.7]\n",
      " [7.3 2.9 6.3 1.8]\n",
      " [6.7 2.5 5.8 1.8]\n",
      " [7.2 3.6 6.1 2.5]\n",
      " [6.5 3.2 5.1 2. ]\n",
      " [6.4 2.7 5.3 1.9]\n",
      " [6.8 3.  5.5 2.1]\n",
      " [5.7 2.5 5.  2. ]\n",
      " [5.8 2.8 5.1 2.4]\n",
      " [6.4 3.2 5.3 2.3]\n",
      " [6.5 3.  5.5 1.8]\n",
      " [7.7 3.8 6.7 2.2]\n",
      " [7.7 2.6 6.9 2.3]\n",
      " [6.  2.2 5.  1.5]\n",
      " [6.9 3.2 5.7 2.3]\n",
      " [5.6 2.8 4.9 2. ]\n",
      " [7.7 2.8 6.7 2. ]\n",
      " [6.3 2.7 4.9 1.8]\n",
      " [6.7 3.3 5.7 2.1]\n",
      " [7.2 3.2 6.  1.8]\n",
      " [6.2 2.8 4.8 1.8]\n",
      " [6.1 3.  4.9 1.8]\n",
      " [6.4 2.8 5.6 2.1]\n",
      " [7.2 3.  5.8 1.6]\n",
      " [7.4 2.8 6.1 1.9]\n",
      " [7.9 3.8 6.4 2. ]\n",
      " [6.4 2.8 5.6 2.2]\n",
      " [6.3 2.8 5.1 1.5]\n",
      " [6.1 2.6 5.6 1.4]\n",
      " [7.7 3.  6.1 2.3]\n",
      " [6.3 3.4 5.6 2.4]\n",
      " [6.4 3.1 5.5 1.8]\n",
      " [6.  3.  4.8 1.8]\n",
      " [6.9 3.1 5.4 2.1]\n",
      " [6.7 3.1 5.6 2.4]\n",
      " [6.9 3.1 5.1 2.3]\n",
      " [5.8 2.7 5.1 1.9]\n",
      " [6.8 3.2 5.9 2.3]\n",
      " [6.7 3.3 5.7 2.5]\n",
      " [6.7 3.  5.2 2.3]\n",
      " [6.3 2.5 5.  1.9]\n",
      " [6.5 3.  5.2 2. ]\n",
      " [6.2 3.4 5.4 2.3]\n",
      " [5.9 3.  5.1 1.8]]\n",
      "['setosa' 'setosa' 'setosa' 'setosa' 'setosa' 'setosa' 'setosa' 'setosa'\n",
      " 'setosa' 'setosa' 'setosa' 'setosa' 'setosa' 'setosa' 'setosa' 'setosa'\n",
      " 'setosa' 'setosa' 'setosa' 'setosa' 'setosa' 'setosa' 'setosa' 'setosa'\n",
      " 'setosa' 'setosa' 'setosa' 'setosa' 'setosa' 'setosa' 'setosa' 'setosa'\n",
      " 'setosa' 'setosa' 'setosa' 'setosa' 'setosa' 'setosa' 'setosa' 'setosa'\n",
      " 'setosa' 'setosa' 'setosa' 'setosa' 'setosa' 'setosa' 'setosa' 'setosa'\n",
      " 'setosa' 'setosa' 'versicolor' 'versicolor' 'versicolor' 'versicolor'\n",
      " 'versicolor' 'versicolor' 'versicolor' 'versicolor' 'versicolor'\n",
      " 'versicolor' 'versicolor' 'versicolor' 'versicolor' 'versicolor'\n",
      " 'versicolor' 'versicolor' 'versicolor' 'versicolor' 'versicolor'\n",
      " 'versicolor' 'versicolor' 'versicolor' 'versicolor' 'versicolor'\n",
      " 'versicolor' 'versicolor' 'versicolor' 'versicolor' 'versicolor'\n",
      " 'versicolor' 'versicolor' 'versicolor' 'versicolor' 'versicolor'\n",
      " 'versicolor' 'versicolor' 'versicolor' 'versicolor' 'versicolor'\n",
      " 'versicolor' 'versicolor' 'versicolor' 'versicolor' 'versicolor'\n",
      " 'versicolor' 'versicolor' 'versicolor' 'versicolor' 'versicolor'\n",
      " 'versicolor' 'virginica' 'virginica' 'virginica' 'virginica' 'virginica'\n",
      " 'virginica' 'virginica' 'virginica' 'virginica' 'virginica' 'virginica'\n",
      " 'virginica' 'virginica' 'virginica' 'virginica' 'virginica' 'virginica'\n",
      " 'virginica' 'virginica' 'virginica' 'virginica' 'virginica' 'virginica'\n",
      " 'virginica' 'virginica' 'virginica' 'virginica' 'virginica' 'virginica'\n",
      " 'virginica' 'virginica' 'virginica' 'virginica' 'virginica' 'virginica'\n",
      " 'virginica' 'virginica' 'virginica' 'virginica' 'virginica' 'virginica'\n",
      " 'virginica' 'virginica' 'virginica' 'virginica' 'virginica' 'virginica'\n",
      " 'virginica' 'virginica' 'virginica']\n"
     ]
    }
   ],
   "source": [
    "# Colocando todos os registros das três colunas preditoras (features) em uma matriz\n",
    "X = np.array(df.iloc[:, 0:4])\n",
    "print(X)\n",
    "\n",
    "# Criando um vetor com as espécies de todos os registros de flores\n",
    "y = np.array(df['Species'])\n",
    "print(y)"
   ]
  },
  {
   "cell_type": "code",
   "execution_count": 13,
   "metadata": {},
   "outputs": [],
   "source": [
    "from sklearn.model_selection import train_test_split"
   ]
  },
  {
   "cell_type": "code",
   "execution_count": 16,
   "metadata": {},
   "outputs": [],
   "source": [
    "# Dividindo os conjuntos de treinamento e teste\n",
    "X_treinamento, X_teste, y_treinamento, y_teste = train_test_split(X, y, test_size=0.3)"
   ]
  },
  {
   "cell_type": "code",
   "execution_count": 17,
   "metadata": {},
   "outputs": [
    {
     "name": "stdout",
     "output_type": "stream",
     "text": [
      "(105, 4)\n",
      "[[5.3 3.7 1.5 0.2]\n",
      " [6.3 3.4 5.6 2.4]\n",
      " [6.4 2.8 5.6 2.2]\n",
      " [6.1 2.8 4.  1.3]\n",
      " [6.2 3.4 5.4 2.3]\n",
      " [7.1 3.  5.9 2.1]\n",
      " [4.4 2.9 1.4 0.2]\n",
      " [4.9 3.1 1.5 0.2]\n",
      " [6.7 3.  5.2 2.3]\n",
      " [5.1 2.5 3.  1.1]\n",
      " [6.4 3.2 4.5 1.5]\n",
      " [4.9 3.1 1.5 0.1]\n",
      " [6.2 2.9 4.3 1.3]\n",
      " [5.1 3.5 1.4 0.2]\n",
      " [6.7 3.1 4.7 1.5]\n",
      " [6.3 2.7 4.9 1.8]\n",
      " [5.7 2.8 4.5 1.3]\n",
      " [4.6 3.1 1.5 0.2]\n",
      " [7.3 2.9 6.3 1.8]\n",
      " [4.7 3.2 1.3 0.2]\n",
      " [5.9 3.  4.2 1.5]\n",
      " [6.2 2.8 4.8 1.8]\n",
      " [4.3 3.  1.1 0.1]\n",
      " [6.7 3.1 4.4 1.4]\n",
      " [6.5 3.2 5.1 2. ]\n",
      " [7.2 3.  5.8 1.6]\n",
      " [4.6 3.2 1.4 0.2]\n",
      " [6.4 2.9 4.3 1.3]\n",
      " [6.1 2.8 4.7 1.2]\n",
      " [5.  3.6 1.4 0.2]\n",
      " [6.7 3.  5.  1.7]\n",
      " [6.9 3.2 5.7 2.3]\n",
      " [5.7 4.4 1.5 0.4]\n",
      " [5.6 2.5 3.9 1.1]\n",
      " [5.8 2.7 5.1 1.9]\n",
      " [4.8 3.  1.4 0.3]\n",
      " [6.3 2.3 4.4 1.3]\n",
      " [7.2 3.2 6.  1.8]\n",
      " [6.8 3.  5.5 2.1]\n",
      " [4.9 3.6 1.4 0.1]\n",
      " [5.1 3.8 1.5 0.3]\n",
      " [5.7 2.5 5.  2. ]\n",
      " [6.3 2.8 5.1 1.5]\n",
      " [5.4 3.9 1.3 0.4]\n",
      " [5.6 2.8 4.9 2. ]\n",
      " [5.5 2.5 4.  1.3]\n",
      " [5.8 2.7 5.1 1.9]\n",
      " [6.8 2.8 4.8 1.4]\n",
      " [5.1 3.8 1.9 0.4]\n",
      " [5.4 3.  4.5 1.5]\n",
      " [5.5 3.5 1.3 0.2]\n",
      " [7.9 3.8 6.4 2. ]\n",
      " [5.6 2.9 3.6 1.3]\n",
      " [5.1 3.8 1.6 0.2]\n",
      " [5.4 3.4 1.5 0.4]\n",
      " [4.9 3.  1.4 0.2]\n",
      " [6.3 2.5 5.  1.9]\n",
      " [6.6 2.9 4.6 1.3]\n",
      " [6.7 3.3 5.7 2.1]\n",
      " [5.5 4.2 1.4 0.2]\n",
      " [5.9 3.2 4.8 1.8]\n",
      " [5.8 2.7 3.9 1.2]\n",
      " [6.9 3.1 4.9 1.5]\n",
      " [4.4 3.2 1.3 0.2]\n",
      " [5.1 3.5 1.4 0.3]\n",
      " [6.3 3.3 4.7 1.6]\n",
      " [6.4 3.2 5.3 2.3]\n",
      " [6.  2.9 4.5 1.5]\n",
      " [6.  2.2 5.  1.5]\n",
      " [6.7 2.5 5.8 1.8]\n",
      " [6.3 2.9 5.6 1.8]\n",
      " [6.5 3.  5.8 2.2]\n",
      " [5.6 2.7 4.2 1.3]\n",
      " [4.8 3.4 1.9 0.2]\n",
      " [6.5 2.8 4.6 1.5]\n",
      " [5.4 3.9 1.7 0.4]\n",
      " [6.7 3.1 5.6 2.4]\n",
      " [4.8 3.1 1.6 0.2]\n",
      " [6.8 3.2 5.9 2.3]\n",
      " [5.8 2.8 5.1 2.4]\n",
      " [6.3 2.5 4.9 1.5]\n",
      " [6.4 3.1 5.5 1.8]\n",
      " [5.7 2.6 3.5 1. ]\n",
      " [5.7 2.8 4.1 1.3]\n",
      " [6.3 3.3 6.  2.5]\n",
      " [5.  3.4 1.5 0.2]\n",
      " [6.4 2.8 5.6 2.1]\n",
      " [5.7 2.9 4.2 1.3]\n",
      " [6.2 2.2 4.5 1.5]\n",
      " [5.4 3.7 1.5 0.2]\n",
      " [7.  3.2 4.7 1.4]\n",
      " [7.4 2.8 6.1 1.9]\n",
      " [6.9 3.1 5.1 2.3]\n",
      " [4.6 3.4 1.4 0.3]\n",
      " [6.6 3.  4.4 1.4]\n",
      " [5.  2.  3.5 1. ]\n",
      " [6.9 3.1 5.4 2.1]\n",
      " [5.5 2.3 4.  1.3]\n",
      " [6.1 3.  4.6 1.4]\n",
      " [5.  3.4 1.6 0.4]\n",
      " [5.7 3.8 1.7 0.3]\n",
      " [5.  3.  1.6 0.2]\n",
      " [5.1 3.7 1.5 0.4]\n",
      " [5.7 3.  4.2 1.2]\n",
      " [6.7 3.3 5.7 2.5]]\n"
     ]
    }
   ],
   "source": [
    "print(X_treinamento.shape)\n",
    "print(X_treinamento)"
   ]
  },
  {
   "cell_type": "code",
   "execution_count": 18,
   "metadata": {},
   "outputs": [
    {
     "name": "stdout",
     "output_type": "stream",
     "text": [
      "(45, 4)\n",
      "[[7.7 2.6 6.9 2.3]\n",
      " [7.7 3.8 6.7 2.2]\n",
      " [5.  3.5 1.3 0.3]\n",
      " [5.  2.3 3.3 1. ]\n",
      " [4.5 2.3 1.3 0.3]\n",
      " [5.8 2.7 4.1 1. ]\n",
      " [5.  3.5 1.6 0.6]\n",
      " [6.4 2.7 5.3 1.9]\n",
      " [4.6 3.6 1.  0.2]\n",
      " [5.4 3.4 1.7 0.2]\n",
      " [6.  3.  4.8 1.8]\n",
      " [5.8 2.6 4.  1.2]\n",
      " [6.  2.2 4.  1. ]\n",
      " [5.6 3.  4.1 1.3]\n",
      " [6.  3.4 4.5 1.6]\n",
      " [5.5 2.4 3.8 1.1]\n",
      " [4.9 2.4 3.3 1. ]\n",
      " [4.8 3.  1.4 0.1]\n",
      " [5.2 3.5 1.5 0.2]\n",
      " [6.1 2.6 5.6 1.4]\n",
      " [7.6 3.  6.6 2.1]\n",
      " [7.7 3.  6.1 2.3]\n",
      " [4.8 3.4 1.6 0.2]\n",
      " [4.7 3.2 1.6 0.2]\n",
      " [5.5 2.6 4.4 1.2]\n",
      " [5.  3.3 1.4 0.2]\n",
      " [4.4 3.  1.3 0.2]\n",
      " [5.5 2.4 3.7 1. ]\n",
      " [6.  2.7 5.1 1.6]\n",
      " [6.5 3.  5.2 2. ]\n",
      " [5.2 4.1 1.5 0.1]\n",
      " [5.8 4.  1.2 0.2]\n",
      " [6.1 3.  4.9 1.8]\n",
      " [7.7 2.8 6.7 2. ]\n",
      " [5.6 3.  4.5 1.5]\n",
      " [5.1 3.3 1.7 0.5]\n",
      " [7.2 3.6 6.1 2.5]\n",
      " [5.1 3.4 1.5 0.2]\n",
      " [6.5 3.  5.5 1.8]\n",
      " [5.9 3.  5.1 1.8]\n",
      " [4.9 2.5 4.5 1.7]\n",
      " [5.  3.2 1.2 0.2]\n",
      " [6.1 2.9 4.7 1.4]\n",
      " [5.2 3.4 1.4 0.2]\n",
      " [5.2 2.7 3.9 1.4]]\n"
     ]
    }
   ],
   "source": [
    "print(X_teste.shape)\n",
    "print(X_teste)"
   ]
  },
  {
   "cell_type": "code",
   "execution_count": 19,
   "metadata": {},
   "outputs": [
    {
     "name": "stdout",
     "output_type": "stream",
     "text": [
      "(105,)\n",
      "['setosa' 'virginica' 'virginica' 'versicolor' 'virginica' 'virginica'\n",
      " 'setosa' 'setosa' 'virginica' 'versicolor' 'versicolor' 'setosa'\n",
      " 'versicolor' 'setosa' 'versicolor' 'virginica' 'versicolor' 'setosa'\n",
      " 'virginica' 'setosa' 'versicolor' 'virginica' 'setosa' 'versicolor'\n",
      " 'virginica' 'virginica' 'setosa' 'versicolor' 'versicolor' 'setosa'\n",
      " 'versicolor' 'virginica' 'setosa' 'versicolor' 'virginica' 'setosa'\n",
      " 'versicolor' 'virginica' 'virginica' 'setosa' 'setosa' 'virginica'\n",
      " 'virginica' 'setosa' 'virginica' 'versicolor' 'virginica' 'versicolor'\n",
      " 'setosa' 'versicolor' 'setosa' 'virginica' 'versicolor' 'setosa' 'setosa'\n",
      " 'setosa' 'virginica' 'versicolor' 'virginica' 'setosa' 'versicolor'\n",
      " 'versicolor' 'versicolor' 'setosa' 'setosa' 'versicolor' 'virginica'\n",
      " 'versicolor' 'virginica' 'virginica' 'virginica' 'virginica' 'versicolor'\n",
      " 'setosa' 'versicolor' 'setosa' 'virginica' 'setosa' 'virginica'\n",
      " 'virginica' 'versicolor' 'virginica' 'versicolor' 'versicolor'\n",
      " 'virginica' 'setosa' 'virginica' 'versicolor' 'versicolor' 'setosa'\n",
      " 'versicolor' 'virginica' 'virginica' 'setosa' 'versicolor' 'versicolor'\n",
      " 'virginica' 'versicolor' 'versicolor' 'setosa' 'setosa' 'setosa' 'setosa'\n",
      " 'versicolor' 'virginica']\n"
     ]
    }
   ],
   "source": [
    "print(y_treinamento.shape)\n",
    "print(y_treinamento)"
   ]
  },
  {
   "cell_type": "code",
   "execution_count": 20,
   "metadata": {},
   "outputs": [
    {
     "name": "stdout",
     "output_type": "stream",
     "text": [
      "(45,)\n",
      "['virginica' 'virginica' 'setosa' 'versicolor' 'setosa' 'versicolor'\n",
      " 'setosa' 'virginica' 'setosa' 'setosa' 'virginica' 'versicolor'\n",
      " 'versicolor' 'versicolor' 'versicolor' 'versicolor' 'versicolor' 'setosa'\n",
      " 'setosa' 'virginica' 'virginica' 'virginica' 'setosa' 'setosa'\n",
      " 'versicolor' 'setosa' 'setosa' 'versicolor' 'versicolor' 'virginica'\n",
      " 'setosa' 'setosa' 'virginica' 'virginica' 'versicolor' 'setosa'\n",
      " 'virginica' 'setosa' 'virginica' 'virginica' 'virginica' 'setosa'\n",
      " 'versicolor' 'setosa' 'versicolor']\n"
     ]
    }
   ],
   "source": [
    "print(y_teste.shape)\n",
    "print(y_teste)"
   ]
  },
  {
   "cell_type": "markdown",
   "metadata": {},
   "source": [
    "# Criando as estruturas de parametrização para kvizinhos e kfolds"
   ]
  },
  {
   "cell_type": "code",
   "execution_count": 21,
   "metadata": {},
   "outputs": [
    {
     "name": "stdout",
     "output_type": "stream",
     "text": [
      "[1, 3, 5, 7, 9]\n"
     ]
    }
   ],
   "source": [
    "# Intervalo de números ímpares de 1 a 10 para utilização do k no KNN\n",
    "listakvizinhos = list(range(1,10,2))\n",
    "print(listakvizinhos)"
   ]
  },
  {
   "cell_type": "code",
   "execution_count": 22,
   "metadata": {},
   "outputs": [
    {
     "name": "stdout",
     "output_type": "stream",
     "text": [
      "[10, 11, 12, 13, 14, 15, 16, 17, 18, 19]\n"
     ]
    }
   ],
   "source": [
    "# Intervalo de possíveis valores para k-fold\n",
    "listakfolds = list(range(10,20))\n",
    "print(listakfolds)"
   ]
  },
  {
   "cell_type": "code",
   "execution_count": 23,
   "metadata": {},
   "outputs": [
    {
     "name": "stdout",
     "output_type": "stream",
     "text": [
      "[] [] []\n"
     ]
    }
   ],
   "source": [
    "# Estruturas para armazenar os valores dos modelos\n",
    "listakmodelo = []\n",
    "listakfoldmodelo = []\n",
    "listaresultadosmodelo = []\n",
    "print(listakmodelo, listakfoldmodelo, listaresultadosmodelo)"
   ]
  },
  {
   "cell_type": "markdown",
   "metadata": {},
   "source": [
    "# Importando bibliotecas necessárias para execução do KNN"
   ]
  },
  {
   "cell_type": "code",
   "execution_count": 24,
   "metadata": {},
   "outputs": [],
   "source": [
    "from sklearn.neighbors import KNeighborsClassifier\n",
    "from sklearn.model_selection import cross_val_score\n",
    "from sklearn import preprocessing"
   ]
  },
  {
   "cell_type": "markdown",
   "metadata": {},
   "source": [
    "# Execução do KNN"
   ]
  },
  {
   "cell_type": "code",
   "execution_count": 25,
   "metadata": {},
   "outputs": [],
   "source": [
    "# Executando o Knn para cada k de listakvizinhos e para cada fold (f) de listakfolds\n",
    "for k in listakvizinhos:\n",
    "  for f in listakfolds:\n",
    "      knn = KNeighborsClassifier(n_neighbors=k)\n",
    "      scores = cross_val_score(knn, X_treinamento, y_treinamento, cv=f, scoring='accuracy')\n",
    "      listaresultadosmodelo.append(scores.mean())\n",
    "      listakmodelo.append(k)                 \n",
    "      listakfoldmodelo.append(f)"
   ]
  },
  {
   "cell_type": "markdown",
   "metadata": {},
   "source": [
    "# Impressão dos Resultados da aplicação do KNN"
   ]
  },
  {
   "cell_type": "code",
   "execution_count": 26,
   "metadata": {},
   "outputs": [
    {
     "name": "stdout",
     "output_type": "stream",
     "text": [
      "[1, 1, 1, 1, 1, 1, 1, 1, 1, 1, 3, 3, 3, 3, 3, 3, 3, 3, 3, 3, 5, 5, 5, 5, 5, 5, 5, 5, 5, 5, 7, 7, 7, 7, 7, 7, 7, 7, 7, 7, 9, 9, 9, 9, 9, 9, 9, 9, 9, 9] [10, 11, 12, 13, 14, 15, 16, 17, 18, 19, 10, 11, 12, 13, 14, 15, 16, 17, 18, 19, 10, 11, 12, 13, 14, 15, 16, 17, 18, 19, 10, 11, 12, 13, 14, 15, 16, 17, 18, 19, 10, 11, 12, 13, 14, 15, 16, 17, 18, 19] [0.9707070707070707, 0.9696969696969696, 0.9722222222222222, 0.9722222222222222, 0.9702380952380952, 0.9694444444444446, 0.96875, 0.9705882352941176, 0.9722222222222222, 0.9736842105263158, 0.9797979797979798, 0.9797979797979799, 0.9814814814814815, 0.9807692307692307, 0.9791666666666667, 0.9777777777777779, 0.9791666666666667, 0.9803921568627452, 0.9814814814814815, 0.9824561403508772, 0.9722222222222221, 0.9733700642791553, 0.9907407407407408, 0.9903846153846154, 0.9880952380952381, 0.9888888888888889, 0.9895833333333334, 0.9901960784313727, 0.9907407407407409, 0.9912280701754387, 0.9714646464646464, 0.9614325068870524, 0.9629629629629629, 0.9647435897435896, 0.9623015873015873, 0.962037037037037, 0.9609375, 0.9607843137254903, 0.9629629629629631, 0.9649122807017545, 0.9714646464646464, 0.9614325068870524, 0.9629629629629629, 0.9647435897435896, 0.9623015873015873, 0.962037037037037, 0.9609375, 0.9607843137254903, 0.9629629629629631, 0.9649122807017545]\n"
     ]
    }
   ],
   "source": [
    "print(listakmodelo, listakfoldmodelo, listaresultadosmodelo)"
   ]
  },
  {
   "cell_type": "code",
   "execution_count": 29,
   "metadata": {},
   "outputs": [
    {
     "name": "stdout",
     "output_type": "stream",
     "text": [
      "    listakmodelo  listakfoldmodelo       MSE\n",
      "0              1                10  0.029293\n",
      "1              1                11  0.030303\n",
      "2              1                12  0.027778\n",
      "3              1                13  0.027778\n",
      "4              1                14  0.029762\n",
      "5              1                15  0.030556\n",
      "6              1                16  0.031250\n",
      "7              1                17  0.029412\n",
      "8              1                18  0.027778\n",
      "9              1                19  0.026316\n",
      "10             3                10  0.020202\n",
      "11             3                11  0.020202\n",
      "12             3                12  0.018519\n",
      "13             3                13  0.019231\n",
      "14             3                14  0.020833\n",
      "15             3                15  0.022222\n",
      "16             3                16  0.020833\n",
      "17             3                17  0.019608\n",
      "18             3                18  0.018519\n",
      "19             3                19  0.017544\n",
      "20             5                10  0.027778\n",
      "21             5                11  0.026630\n",
      "22             5                12  0.009259\n",
      "23             5                13  0.009615\n",
      "24             5                14  0.011905\n",
      "25             5                15  0.011111\n",
      "26             5                16  0.010417\n",
      "27             5                17  0.009804\n",
      "28             5                18  0.009259\n",
      "29             5                19  0.008772\n",
      "30             7                10  0.028535\n",
      "31             7                11  0.038567\n",
      "32             7                12  0.037037\n",
      "33             7                13  0.035256\n",
      "34             7                14  0.037698\n",
      "35             7                15  0.037963\n",
      "36             7                16  0.039062\n",
      "37             7                17  0.039216\n",
      "38             7                18  0.037037\n",
      "39             7                19  0.035088\n",
      "40             9                10  0.028535\n",
      "41             9                11  0.038567\n",
      "42             9                12  0.037037\n",
      "43             9                13  0.035256\n",
      "44             9                14  0.037698\n",
      "45             9                15  0.037963\n",
      "46             9                16  0.039062\n",
      "47             9                17  0.039216\n",
      "48             9                18  0.037037\n",
      "49             9                19  0.035088\n"
     ]
    }
   ],
   "source": [
    "# calcular os erros, com base na acurácia, e concatenando os resultados\n",
    "MSE = [(1 - x) for x in listaresultadosmodelo]\n",
    "\n",
    "# contrução do dataframe\n",
    "df_1 = pd.DataFrame (listakmodelo, columns=['listakmodelo'])\n",
    "df_2 = pd.DataFrame (listakfoldmodelo, columns=['listakfoldmodelo'])\n",
    "df_3 = pd.DataFrame (MSE, columns=['MSE'])\n",
    "df_knn = pd.concat([df_1, df_2, df_3], axis=1)\n",
    "print(df_knn)"
   ]
  },
  {
   "cell_type": "markdown",
   "metadata": {},
   "source": [
    "# Descobrindo o menor erro e os melhores k e kfold"
   ]
  },
  {
   "cell_type": "code",
   "execution_count": 30,
   "metadata": {},
   "outputs": [
    {
     "name": "stdout",
     "output_type": "stream",
     "text": [
      "0.00877192982456132\n",
      "    listakmodelo  listakfoldmodelo       MSE\n",
      "29             5                19  0.008772\n",
      "Int64Index([29], dtype='int64')\n"
     ]
    }
   ],
   "source": [
    "# retorna o menor erro obtido\n",
    "menorerro = min(df_knn['MSE'])\n",
    "print(menorerro)\n",
    "\n",
    "# descobre quais linhas do dataframe possuem os valores ótimos\n",
    "elementosotimos = df_knn[df_knn['MSE'] == menorerro]\n",
    "print(elementosotimos)\n",
    "\n",
    "# descobre os índices das linhas onde estão os valores ótimos\n",
    "indicesotimos = elementosotimos.index\n",
    "print(indicesotimos)"
   ]
  },
  {
   "cell_type": "code",
   "execution_count": 31,
   "metadata": {},
   "outputs": [
    {
     "name": "stdout",
     "output_type": "stream",
     "text": [
      "Menor erro de classificação 0.008772\n",
      "Valores de k vizinhos e kfold ótimos:\n",
      "5 - 19\n"
     ]
    }
   ],
   "source": [
    "# imprimir os resultados\n",
    "print (\"Menor erro de classificação %f\" % menorerro )\n",
    "print (\"Valores de k vizinhos e kfold ótimos:\")\n",
    "for i in indicesotimos:\n",
    "    print (\"%d - %d\" % (df_knn.loc[i, 'listakmodelo'], df_knn.loc[i, 'listakfoldmodelo']))"
   ]
  },
  {
   "cell_type": "markdown",
   "metadata": {},
   "source": [
    "# Importando bibliotecas gráficas"
   ]
  },
  {
   "cell_type": "code",
   "execution_count": 32,
   "metadata": {},
   "outputs": [],
   "source": [
    "import matplotlib.pyplot as plt\n",
    "from mpl_toolkits import mplot3d"
   ]
  },
  {
   "cell_type": "markdown",
   "metadata": {},
   "source": [
    "# Criando um gráfico 3D para visualização dos testes realizados"
   ]
  },
  {
   "cell_type": "code",
   "execution_count": 33,
   "metadata": {},
   "outputs": [
    {
     "data": {
      "text/plain": [
       "Text(0.5, 0, 'MSE')"
      ]
     },
     "execution_count": 33,
     "metadata": {},
     "output_type": "execute_result"
    },
    {
     "data": {
      "image/png": "[encoded data removed]",
      "text/plain": [
       "<Figure size 792x504 with 1 Axes>"
      ]
     },
     "metadata": {
      "needs_background": "light"
     },
     "output_type": "display_data"
    }
   ],
   "source": [
    "# Visualizando o erro de classificação versus k vizinhos x k folds\n",
    "plt.rcParams['figure.figsize'] = (11,7)\n",
    "fig = plt.figure()\n",
    "\n",
    "ax = plt.axes(projection='3d')\n",
    "\n",
    "color= ['red' if l == indicesotimos[0] else 'grey' for l in df_knn.index.tolist()]\n",
    "\n",
    "fc= ['blue' if l == indicesotimos[0] else 'none' for l in df_knn.index.tolist()]\n",
    "\n",
    "ax.scatter3D(listakmodelo, listakfoldmodelo, MSE, s=50, facecolor = fc, edgecolors=color, depthshade=False)\n",
    "\n",
    "# Configurando o gráfico e seus eixos\n",
    "ax.set_title('Soluções testadas do algoritmo KNN')\n",
    "ax.set_xlabel('lista de k vizinhos testados')\n",
    "ax.set_ylabel('lista de k folds testados')\n",
    "ax.set_zlabel('MSE')"
   ]
  },
  {
   "cell_type": "markdown",
   "metadata": {},
   "source": [
    "# Fazendo a predição do modelo"
   ]
  },
  {
   "cell_type": "code",
   "execution_count": 34,
   "metadata": {},
   "outputs": [],
   "source": [
    "# O melhor k vizinho a ser utilizado é igual a 5\n",
    "knn = KNeighborsClassifier(n_neighbors=5)\n",
    "knn.fit(X_treinamento, y_treinamento)\n",
    "y_predicao = knn.predict(X_teste)"
   ]
  },
  {
   "cell_type": "markdown",
   "metadata": {},
   "source": [
    "# Acurácia e outras métricas da predição"
   ]
  },
  {
   "cell_type": "code",
   "execution_count": 35,
   "metadata": {},
   "outputs": [],
   "source": [
    "from sklearn import metrics"
   ]
  },
  {
   "cell_type": "code",
   "execution_count": 36,
   "metadata": {},
   "outputs": [
    {
     "name": "stdout",
     "output_type": "stream",
     "text": [
      "Acurácia: 0.9333333333333333\n",
      "Precisão: [1.         0.86666667 0.92307692]\n",
      "Recall: [1.         0.92857143 0.85714286]\n",
      "F1-score: [1.         0.89655172 0.88888889]\n"
     ]
    }
   ],
   "source": [
    "print(\"Acurácia:\",metrics.accuracy_score(y_teste, y_predicao))\n",
    "print(\"Precisão:\",metrics.precision_score(y_teste, y_predicao, average=None))\n",
    "print(\"Recall:\",metrics.recall_score(y_teste, y_predicao, average=None))\n",
    "print(\"F1-score:\",metrics.f1_score(y_teste, y_predicao, average=None))"
   ]
  },
  {
   "cell_type": "markdown",
   "metadata": {},
   "source": [
    "# Relatório da Predição"
   ]
  },
  {
   "cell_type": "code",
   "execution_count": 37,
   "metadata": {},
   "outputs": [],
   "source": [
    "from sklearn.metrics import classification_report"
   ]
  },
  {
   "cell_type": "code",
   "execution_count": 38,
   "metadata": {},
   "outputs": [
    {
     "name": "stdout",
     "output_type": "stream",
     "text": [
      "              precision    recall  f1-score   support\n",
      "\n",
      "      setosa       1.00      1.00      1.00        17\n",
      "  versicolor       0.87      0.93      0.90        14\n",
      "   virginica       0.92      0.86      0.89        14\n",
      "\n",
      "   micro avg       0.93      0.93      0.93        45\n",
      "   macro avg       0.93      0.93      0.93        45\n",
      "weighted avg       0.93      0.93      0.93        45\n",
      "\n"
     ]
    }
   ],
   "source": [
    "print(classification_report(y_teste, y_predicao))"
   ]
  },
  {
   "cell_type": "markdown",
   "metadata": {},
   "source": [
    "# Matriz de Confusão"
   ]
  },
  {
   "cell_type": "code",
   "execution_count": 39,
   "metadata": {},
   "outputs": [
    {
     "data": {
      "text/plain": [
       "array([[17,  0,  0],\n",
       "       [ 0, 13,  1],\n",
       "       [ 0,  2, 12]])"
      ]
     },
     "execution_count": 39,
     "metadata": {},
     "output_type": "execute_result"
    }
   ],
   "source": [
    "metrics.confusion_matrix(y_teste, y_predicao)"
   ]
  },
  {
   "cell_type": "code",
   "execution_count": null,
   "metadata": {},
   "outputs": [],
   "source": []
  }
 ],
 "metadata": {
  "kernelspec": {
   "display_name": "Python 3",
   "language": "python",
   "name": "python3"
  },
  "language_info": {
   "codemirror_mode": {
    "name": "ipython",
    "version": 3
   },
   "file_extension": ".py",
   "mimetype": "text/x-python",
   "name": "python",
   "nbconvert_exporter": "python",
   "pygments_lexer": "ipython3",
   "version": "3.7.3"
  }
 },
 "nbformat": 4,
 "nbformat_minor": 2
}
